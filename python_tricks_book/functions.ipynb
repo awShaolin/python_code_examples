{
 "cells": [
  {
   "cell_type": "markdown",
   "metadata": {},
   "source": [
    "## Функции - объекты первого класса "
   ]
  },
  {
   "cell_type": "code",
   "execution_count": 2,
   "metadata": {},
   "outputs": [],
   "source": [
    "# simple example\n",
    "\n",
    "def yell(text):\n",
    "    return text.upper() + '!'"
   ]
  },
  {
   "cell_type": "markdown",
   "metadata": {},
   "source": [
    "#### Функции - это объекты\n",
    "(Все в Python - объект)"
   ]
  },
  {
   "cell_type": "code",
   "execution_count": 3,
   "metadata": {},
   "outputs": [
    {
     "data": {
      "text/plain": [
       "'ГАВ!'"
      ]
     },
     "execution_count": 3,
     "metadata": {},
     "output_type": "execute_result"
    }
   ],
   "source": [
    "# так как функция - объект, можно присвоить ее переменной\n",
    "bark = yell\n",
    "bark('гав')\n",
    "# функция как объект не зависит от имени, поэтому можно удалить yell, но bark все равно сработает"
   ]
  },
  {
   "cell_type": "markdown",
   "metadata": {},
   "source": [
    "#### Функции могут хранится в структурах данных"
   ]
  },
  {
   "cell_type": "code",
   "execution_count": 6,
   "metadata": {},
   "outputs": [
    {
     "name": "stdout",
     "output_type": "stream",
     "text": [
      "[<function yell at 0x10c90c220>, <method 'lower' of 'str' objects>, <method 'capitalize' of 'str' objects>]\n",
      "<function yell at 0x10c90c220> ВСЕМ ПРИВЕТ!\n",
      "<method 'lower' of 'str' objects> всем привет\n",
      "<method 'capitalize' of 'str' objects> Всем привет\n"
     ]
    },
    {
     "data": {
      "text/plain": [
       "'ПРИВЕТИЩЕ!'"
      ]
     },
     "execution_count": 6,
     "metadata": {},
     "output_type": "execute_result"
    }
   ],
   "source": [
    "funcs = [bark, str.lower, str.capitalize]\n",
    "print(funcs)\n",
    "\n",
    "for f in funcs:\n",
    "    print(f, f('всем привет'))\n",
    "\n",
    "# или \n",
    "\n",
    "funcs[0]('приветище')"
   ]
  },
  {
   "cell_type": "markdown",
   "metadata": {},
   "source": [
    "#### Функции могут передаваться другим функциям"
   ]
  },
  {
   "cell_type": "code",
   "execution_count": 7,
   "metadata": {},
   "outputs": [
    {
     "name": "stdout",
     "output_type": "stream",
     "text": [
      "ПРИВЕТ! Я - ПРОГРАММА PYTHON!\n"
     ]
    }
   ],
   "source": [
    "def greet(func):\n",
    "    greeting = func('Привет! Я - программа Python')\n",
    "    print(greeting)\n",
    "\n",
    "greet(bark)"
   ]
  },
  {
   "cell_type": "markdown",
   "metadata": {},
   "source": [
    "#### Функции могут быть вложенными"
   ]
  },
  {
   "cell_type": "code",
   "execution_count": 9,
   "metadata": {},
   "outputs": [
    {
     "data": {
      "text/plain": [
       "'привет, мир...'"
      ]
     },
     "execution_count": 9,
     "metadata": {},
     "output_type": "execute_result"
    }
   ],
   "source": [
    "def speak(text):\n",
    "    def whisper(t):\n",
    "        return t.lower() + '...'\n",
    "    return whisper(text)\n",
    "\n",
    "speak('Привет, Мир')\n",
    "\n",
    "# тут нужно понимать, что функция whisper, не существует за пределами функции speak"
   ]
  },
  {
   "cell_type": "code",
   "execution_count": 13,
   "metadata": {},
   "outputs": [
    {
     "name": "stdout",
     "output_type": "stream",
     "text": [
      "<function get_speak_func.<locals>.whisper at 0x10c9aa200>\n",
      "<function get_speak_func.<locals>.yell at 0x10c9aa200>\n"
     ]
    },
    {
     "data": {
      "text/plain": [
       "'привет...'"
      ]
     },
     "execution_count": 13,
     "metadata": {},
     "output_type": "execute_result"
    }
   ],
   "source": [
    "# можно также вернуть вложенную функцию \n",
    "def get_speak_func(volume):\n",
    "    def whisper(text):\n",
    "        return text.lower() + '...'\n",
    "    def yell(text):\n",
    "        return text.upper() + '!'\n",
    "    if volume > 0.5:\n",
    "        return yell\n",
    "    else:\n",
    "        return whisper\n",
    "    \n",
    "print(get_speak_func(0.3))\n",
    "print(get_speak_func(0.8))\n",
    "\n",
    "# и теперь, так как мы вернули функцию, мы можем к ней обращаться \n",
    "speak_func = get_speak_func(0.3)\n",
    "speak_func('привет')\n"
   ]
  },
  {
   "cell_type": "markdown",
   "metadata": {},
   "source": [
    "#### Функции могут захватывать локальное состояние\n",
    "Внутренние функции могут захватывать и использовать часть состояния родительской функции\n",
    "Такие функции называются - замыканиями (**lexical closures**)"
   ]
  },
  {
   "cell_type": "code",
   "execution_count": 17,
   "metadata": {},
   "outputs": [
    {
     "name": "stdout",
     "output_type": "stream",
     "text": [
      "ПРИВЕТ!\n"
     ]
    }
   ],
   "source": [
    "def get_speak_func(volume, text):\n",
    "    def whisper():\n",
    "        return text.lower() + '...'\n",
    "    def yell():\n",
    "        return text.upper() + '!'\n",
    "    if volume > 0.5:\n",
    "        return yell\n",
    "    else:\n",
    "        return whisper\n",
    "    \n",
    "speak = get_speak_func(0.7, 'привет')()\n",
    "print(speak)"
   ]
  }
 ],
 "metadata": {
  "kernelspec": {
   "display_name": "venv",
   "language": "python",
   "name": "python3"
  },
  "language_info": {
   "codemirror_mode": {
    "name": "ipython",
    "version": 3
   },
   "file_extension": ".py",
   "mimetype": "text/x-python",
   "name": "python",
   "nbconvert_exporter": "python",
   "pygments_lexer": "ipython3",
   "version": "3.13.0"
  }
 },
 "nbformat": 4,
 "nbformat_minor": 2
}
