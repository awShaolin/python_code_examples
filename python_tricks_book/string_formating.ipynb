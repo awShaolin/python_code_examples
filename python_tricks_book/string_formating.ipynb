{
 "cells": [
  {
   "cell_type": "markdown",
   "metadata": {},
   "source": [
    "## Форматирование строк в Python"
   ]
  },
  {
   "cell_type": "markdown",
   "metadata": {},
   "source": [
    "#### 1) Классическое форматирование"
   ]
  },
  {
   "cell_type": "code",
   "execution_count": 5,
   "metadata": {},
   "outputs": [
    {
     "name": "stdout",
     "output_type": "stream",
     "text": [
      "Привет, Bob\n",
      "Привет, Bob! Вот ошибка badc0ffee\n",
      "Привет, Bob! Вот ошибка badc0ffee\n"
     ]
    }
   ],
   "source": [
    "name = 'Bob'\n",
    "errno = 50159747054\n",
    "\n",
    "# с одной переменной\n",
    "print('Привет, %s' % name) \n",
    "# буква после % указывает на формат, например %x преобазует число в 16 ричную систему\n",
    "print('Привет, %s! Вот ошибка %x' % (name, errno))\n",
    "# третий вариант\n",
    "print('Привет, %(name)s! Вот ошибка %(errno)x' % {\"name\": name, \"errno\": errno})"
   ]
  },
  {
   "cell_type": "markdown",
   "metadata": {},
   "source": [
    "#### 2) Современное форматирование"
   ]
  },
  {
   "cell_type": "code",
   "execution_count": 7,
   "metadata": {},
   "outputs": [
    {
     "name": "stdout",
     "output_type": "stream",
     "text": [
      "Привет, Bob\n",
      "Привет, Bob! Вот ошибка 0xbadc0ffee!\n"
     ]
    }
   ],
   "source": [
    "# фнкция format()\n",
    "name = 'Bob'\n",
    "errno = 50159747054\n",
    "\n",
    "print('Привет, {}'.format(name))\n",
    "print('Привет, {name}! Вот ошибка 0x{errno:x}!'.format(name=name, errno=errno))"
   ]
  },
  {
   "cell_type": "markdown",
   "metadata": {},
   "source": [
    "#### 3) Интерполяция"
   ]
  },
  {
   "cell_type": "code",
   "execution_count": 9,
   "metadata": {},
   "outputs": [
    {
     "name": "stdout",
     "output_type": "stream",
     "text": [
      "'Привет, Bob! Вот ошибка 0xbadc0ffee!\n"
     ]
    }
   ],
   "source": [
    "print(f\"'Привет, {name}! Вот ошибка {errno:#x}!\")"
   ]
  },
  {
   "cell_type": "markdown",
   "metadata": {},
   "source": [
    "#### 5) Шаблонные строки"
   ]
  },
  {
   "cell_type": "code",
   "execution_count": 10,
   "metadata": {},
   "outputs": [
    {
     "data": {
      "text/plain": [
       "'Привет, Bob!'"
      ]
     },
     "execution_count": 10,
     "metadata": {},
     "output_type": "execute_result"
    }
   ],
   "source": [
    "from string import Template\n",
    "\n",
    "t = Template('Привет, $name!')\n",
    "t.substitute(name=name)"
   ]
  },
  {
   "cell_type": "markdown",
   "metadata": {},
   "source": [
    "#### Какой метод использовать?\n",
    "Если формирование строки поступает со стороны порлзователя - tempalte, в остальных случаях итерполяция"
   ]
  }
 ],
 "metadata": {
  "kernelspec": {
   "display_name": "venv",
   "language": "python",
   "name": "python3"
  },
  "language_info": {
   "codemirror_mode": {
    "name": "ipython",
    "version": 3
   },
   "file_extension": ".py",
   "mimetype": "text/x-python",
   "name": "python",
   "nbconvert_exporter": "python",
   "pygments_lexer": "ipython3",
   "version": "3.13.0"
  }
 },
 "nbformat": 4,
 "nbformat_minor": 2
}
