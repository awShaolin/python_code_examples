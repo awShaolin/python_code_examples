{
 "cells": [
  {
   "cell_type": "markdown",
   "metadata": {},
   "source": [
    "### Смысл одинарных и двойных подчеркиваний в python \n",
    "\n",
    "- двойное подчеркивание в начале - **дандер** \n",
    "- **согласованное** - правило именовани, которое принято сообществом, но которое не интерпретируется по особенному питоном "
   ]
  },
  {
   "cell_type": "markdown",
   "metadata": {},
   "source": [
    "#### 1) Одинарный начальный символ подчеркивания _var\n",
    "Согласованное именование, которое означает что переменная предназначена для внутреннего использования и не должна вызываться"
   ]
  },
  {
   "cell_type": "code",
   "execution_count": 1,
   "metadata": {},
   "outputs": [
    {
     "name": "stdout",
     "output_type": "stream",
     "text": [
      "Обычная переменная класса, которую можно использовать 44\n",
      "По сути тоже обычная переменная, но с подсказкой, что она предназначена для внутреннего пользования 34.\n"
     ]
    }
   ],
   "source": [
    "class Underscore:\n",
    "    def __init__(self):\n",
    "        self.foo = 44\n",
    "        self._baz = 34\n",
    "\n",
    "u = Underscore()\n",
    "print(f\"Обычная переменная класса, которую можно использовать {u.foo}\")\n",
    "print(f\"По сути тоже обычная переменная, но с подсказкой, что она предназначена для внутреннего пользования {u._baz}.\")"
   ]
  },
  {
   "cell_type": "markdown",
   "metadata": {},
   "source": [
    "_ также можно использовать и для методов, несет в себе точно такой же смысл. \n",
    "! При импорте с помощью *, метод с _ в начале не будет импортирован"
   ]
  },
  {
   "cell_type": "markdown",
   "metadata": {},
   "source": [
    "#### 2) Одинарный замыкающий символ var_\n",
    "\n",
    "Также используется по всеобщей договоренности, чтобы избежать конфликтов с ключевыми словами."
   ]
  },
  {
   "cell_type": "code",
   "execution_count": 2,
   "metadata": {},
   "outputs": [
    {
     "ename": "SyntaxError",
     "evalue": "invalid syntax (3191537575.py, line 1)",
     "output_type": "error",
     "traceback": [
      "\u001b[0;36m  Cell \u001b[0;32mIn[2], line 1\u001b[0;36m\u001b[0m\n\u001b[0;31m    def make_object(name, class):\u001b[0m\n\u001b[0m                          ^\u001b[0m\n\u001b[0;31mSyntaxError\u001b[0m\u001b[0;31m:\u001b[0m invalid syntax\n"
     ]
    }
   ],
   "source": [
    "# будет ошибка\n",
    "def make_object(name, class):\n",
    "    pass\n",
    "#  не будет ошибки\n",
    "def make_object(name, class_):\n",
    "    pass"
   ]
  },
  {
   "cell_type": "markdown",
   "metadata": {},
   "source": [
    "#### 3) Дандер __var\n",
    "\n",
    "Поддерживается интерпретатором Python и запускает механизм искажения имен"
   ]
  },
  {
   "cell_type": "code",
   "execution_count": 5,
   "metadata": {},
   "outputs": [
    {
     "name": "stdout",
     "output_type": "stream",
     "text": [
      "foo - 42\n"
     ]
    },
    {
     "data": {
      "text/plain": [
       "['_TestDunder__foo',\n",
       " '__class__',\n",
       " '__delattr__',\n",
       " '__dict__',\n",
       " '__dir__',\n",
       " '__doc__',\n",
       " '__eq__',\n",
       " '__firstlineno__',\n",
       " '__format__',\n",
       " '__ge__',\n",
       " '__getattribute__',\n",
       " '__getstate__',\n",
       " '__gt__',\n",
       " '__hash__',\n",
       " '__init__',\n",
       " '__init_subclass__',\n",
       " '__le__',\n",
       " '__lt__',\n",
       " '__module__',\n",
       " '__ne__',\n",
       " '__new__',\n",
       " '__reduce__',\n",
       " '__reduce_ex__',\n",
       " '__repr__',\n",
       " '__setattr__',\n",
       " '__sizeof__',\n",
       " '__static_attributes__',\n",
       " '__str__',\n",
       " '__subclasshook__',\n",
       " '__weakref__',\n",
       " 'foo']"
      ]
     },
     "execution_count": 5,
     "metadata": {},
     "output_type": "execute_result"
    }
   ],
   "source": [
    "class TestDunder():\n",
    "    def __init__(self):\n",
    "        self.foo = 42\n",
    "        self.__foo = 32\n",
    "\n",
    "t = TestDunder()\n",
    "print(f\"foo - {t.foo}\")\n",
    "# print(f\"__foo - {t.__foo}\") # получим ошибку о том, что такого атрибута не существует \n",
    "dir(t) # выведет список атрибутов в классе, можно увидеть что __foo -> _TestDunder__foo"
   ]
  },
  {
   "cell_type": "markdown",
   "metadata": {},
   "source": [
    "#### 4) Двойной начальный и замыкающий символ `__var__`\n",
    "\n",
    "- в этом случае искажение как в __var не будет применятся\n",
    "- зарезервиролванные языком имена (`__init__`, `__call__`)"
   ]
  },
  {
   "cell_type": "markdown",
   "metadata": {},
   "source": [
    "#### 5) Просто _\n",
    "\n",
    "Используется для обозначения временных переменных, которые не будут использоваться дальше"
   ]
  },
  {
   "cell_type": "code",
   "execution_count": 6,
   "metadata": {},
   "outputs": [
    {
     "name": "stdout",
     "output_type": "stream",
     "text": [
      "45\n",
      "15\n",
      "67\n"
     ]
    }
   ],
   "source": [
    "ages = {\"Bill\": 45, \"Mark\": 15, \"Rorik\": 67}\n",
    "# в этом примере _ будет принимать имена, однако они нам не нужны в дальнейшем \n",
    "for _, age in ages.items():\n",
    "    print(age)\n",
    "\n",
    "# P.S. так как имена на не нужны, логичнее использовать values() вместо items(), но это просто пример"
   ]
  }
 ],
 "metadata": {
  "kernelspec": {
   "display_name": "venv",
   "language": "python",
   "name": "python3"
  },
  "language_info": {
   "codemirror_mode": {
    "name": "ipython",
    "version": 3
   },
   "file_extension": ".py",
   "mimetype": "text/x-python",
   "name": "python",
   "nbconvert_exporter": "python",
   "pygments_lexer": "ipython3",
   "version": "3.13.0"
  }
 },
 "nbformat": 4,
 "nbformat_minor": 2
}
