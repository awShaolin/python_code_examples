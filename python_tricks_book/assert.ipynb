{
 "cells": [
  {
   "cell_type": "markdown",
   "metadata": {},
   "source": [
    "## Assert\n",
    "\n",
    "Инструмент отладки, который проверяет условие. Если условие assert - истина, то крод выполняется дальше, если нет, то будет вызвано исключение AssertionError с сообщением об ошибке."
   ]
  },
  {
   "cell_type": "code",
   "execution_count": 4,
   "metadata": {},
   "outputs": [
    {
     "name": "stdout",
     "output_type": "stream",
     "text": [
      "33750\n"
     ]
    }
   ],
   "source": [
    "# функция пример использования assert \n",
    "def apply_discount(product, discount):\n",
    "    price = int(product['price'] * (1.0 - discount))\n",
    "    assert 0 <= price <= product['price']\n",
    "    return price\n",
    "\n",
    "shoes = {'name': 'Nike', 'price': 45000}\n",
    "\n",
    "price = apply_discount(shoes, 0.25) # выведет цену со скидкой\n",
    "# price = apply_discount(shoes, 1.25) # AssertionError\n",
    "print(price)"
   ]
  },
  {
   "cell_type": "markdown",
   "metadata": {},
   "source": [
    "Почему приеняется assert, а не просто if с исключением? \n",
    "Assert предназначет для того, чтобы сообщать об неустранимых, \"невозможных\" ошибках в программе, когда как if - это ожидаемое исключение, которое может произойти."
   ]
  },
  {
   "cell_type": "markdown",
   "metadata": {},
   "source": [
    " \n",
    "- для проверки валидации данных не стоит использовать assert\n",
    "- инструкции assert можно отключить в настройках интерпретатора \n",
    "- не является механизмом обработки ошибок!!!\n"
   ]
  }
 ],
 "metadata": {
  "kernelspec": {
   "display_name": "venv",
   "language": "python",
   "name": "python3"
  },
  "language_info": {
   "codemirror_mode": {
    "name": "ipython",
    "version": 3
   },
   "file_extension": ".py",
   "mimetype": "text/x-python",
   "name": "python",
   "nbconvert_exporter": "python",
   "pygments_lexer": "ipython3",
   "version": "3.13.0"
  }
 },
 "nbformat": 4,
 "nbformat_minor": 2
}
