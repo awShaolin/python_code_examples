{
 "cells": [
  {
   "cell_type": "markdown",
   "metadata": {},
   "source": [
    "## Assert\n",
    "\n",
    "Инструмент отладки, который проверяет условие. Если условие assert - истина, то крод выполняется дальше, если нет, то будет вызвано исключение AssertionError с сообщением об ошибке."
   ]
  },
  {
   "cell_type": "code",
   "execution_count": null,
   "metadata": {},
   "outputs": [],
   "source": [
    "# функция пример использования assert \n",
    "def apply_discount(product, discount):\n",
    "    price = int(product['price'] * (1.0 - discount))\n",
    "    assert 0 <= price <= product['price']\n",
    "    return price\n",
    "\n",
    "shoes = {'name': 'Nike', 'price': '45000'}\n",
    "\n",
    "price = apply_discount(shoes, 0.25)\n",
    "print(price)"
   ]
  }
 ],
 "metadata": {
  "language_info": {
   "name": "python"
  }
 },
 "nbformat": 4,
 "nbformat_minor": 2
}
